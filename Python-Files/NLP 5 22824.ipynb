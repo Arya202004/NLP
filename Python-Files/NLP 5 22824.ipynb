{
 "cells": [
  {
   "cell_type": "code",
   "execution_count": 1,
   "id": "ea667fd0-3bfb-4e39-988c-631b58395762",
   "metadata": {},
   "outputs": [],
   "source": [
    "#Parts of speech tagging\n",
    "#Noun-NN NNS(singular) NNP(plural) CD(Cardinal digits numbers)\n",
    "#FW (foreign words) preposition (IN)"
   ]
  },
  {
   "cell_type": "code",
   "execution_count": 9,
   "id": "50005795-9aae-422b-b0a3-235408c6c8df",
   "metadata": {},
   "outputs": [],
   "source": [
    "import nltk\n",
    "from nltk.tokenize import word_tokenize\n",
    "from nltk import pos_tag"
   ]
  },
  {
   "cell_type": "code",
   "execution_count": 11,
   "id": "64ea90b2-5cb1-4626-a636-67b1f2392804",
   "metadata": {},
   "outputs": [
    {
     "name": "stdout",
     "output_type": "stream",
     "text": [
      "[('Parts', 'NNS')]\n",
      "[('of', 'IN')]\n",
      "[('Speech', 'NN')]\n",
      "[('(', '(')]\n",
      "[('POS', 'NN')]\n",
      "[(')', ')')]\n",
      "[('tagging', 'VBG')]\n",
      "[('is', 'VBZ')]\n",
      "[('a', 'DT')]\n",
      "[('fundamental', 'JJ')]\n",
      "[('task', 'NN')]\n",
      "[('in', 'IN')]\n",
      "[('Natural', 'JJ')]\n",
      "[('Language', 'NN')]\n",
      "[('Processing', 'VBG')]\n",
      "[('(', '(')]\n",
      "[('NLP', 'NN')]\n",
      "[(')', ')')]\n",
      "[('that', 'IN')]\n",
      "[('involves', 'NNS')]\n",
      "[('assigning', 'VBG')]\n",
      "[('a', 'DT')]\n",
      "[('grammatical', 'JJ')]\n",
      "[('category', 'NN')]\n",
      "[(',', ',')]\n",
      "[('such', 'JJ')]\n",
      "[('as', 'IN')]\n",
      "[('noun', 'NN')]\n",
      "[(',', ',')]\n",
      "[('verb', 'NN')]\n",
      "[(',', ',')]\n",
      "[('adjective', 'JJ')]\n",
      "[(',', ',')]\n",
      "[('or', 'CC')]\n",
      "[('adverb', 'NN')]\n",
      "[(',', ',')]\n",
      "[('to', 'TO')]\n",
      "[('each', 'DT')]\n",
      "[('word', 'NN')]\n",
      "[('in', 'IN')]\n",
      "[('a', 'DT')]\n",
      "[('text', 'NN')]\n",
      "[('.', '.')]\n"
     ]
    }
   ],
   "source": [
    "text=\"Parts of Speech (POS) tagging is a fundamental task in Natural Language Processing (NLP) that involves assigning a grammatical category, such as noun, verb, adjective, or adverb, to each word in a text.\"\n",
    "wordlist=word_tokenize(text)\n",
    "for w in wordlist:\n",
    "    tagger=nltk.pos_tag([w])\n",
    "    print(tagger)"
   ]
  },
  {
   "cell_type": "code",
   "execution_count": null,
   "id": "754f447f-375e-4fc8-ab48-da5c8d45bf39",
   "metadata": {},
   "outputs": [],
   "source": []
  }
 ],
 "metadata": {
  "kernelspec": {
   "display_name": "Python 3 (ipykernel)",
   "language": "python",
   "name": "python3"
  },
  "language_info": {
   "codemirror_mode": {
    "name": "ipython",
    "version": 3
   },
   "file_extension": ".py",
   "mimetype": "text/x-python",
   "name": "python",
   "nbconvert_exporter": "python",
   "pygments_lexer": "ipython3",
   "version": "3.12.4"
  }
 },
 "nbformat": 4,
 "nbformat_minor": 5
}
