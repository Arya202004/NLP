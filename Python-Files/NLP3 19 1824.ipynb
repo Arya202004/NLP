{
 "cells": [
  {
   "cell_type": "code",
   "execution_count": 1,
   "id": "21a5a788-7c31-467b-a1bc-f1f07872bebd",
   "metadata": {},
   "outputs": [],
   "source": [
    "import nltk\n",
    "from  nltk.tokenize import word_tokenize"
   ]
  },
  {
   "cell_type": "code",
   "execution_count": 5,
   "id": "58a58dff-c5ca-476f-8ed7-081a491f0a36",
   "metadata": {},
   "outputs": [],
   "source": [
    "from nltk.stem.porter import PorterStemmer"
   ]
  },
  {
   "cell_type": "code",
   "execution_count": 6,
   "id": "91783e57-3616-4b7a-8b9a-66867cec56b9",
   "metadata": {},
   "outputs": [],
   "source": [
    "text=\"The Porter stemming algorithm  is a process for removing the commoner morphological and inflexional endings from words in English.\""
   ]
  },
  {
   "cell_type": "code",
   "execution_count": 12,
   "id": "57914817-b7e0-4f41-a431-ffc8138b7bd0",
   "metadata": {},
   "outputs": [],
   "source": [
    "ps=PorterStemmer()\n",
    "words=word_tokenize(text)"
   ]
  },
  {
   "cell_type": "code",
   "execution_count": 13,
   "id": "7a4a1cfc-e56b-423e-a47e-42aa493b8f1c",
   "metadata": {},
   "outputs": [
    {
     "name": "stdout",
     "output_type": "stream",
     "text": [
      "The:the\n",
      "Porter:porter\n",
      "stemming:stem\n",
      "algorithm:algorithm\n",
      "is:is\n",
      "a:a\n",
      "process:process\n",
      "for:for\n",
      "removing:remov\n",
      "the:the\n",
      "commoner:common\n",
      "morphological:morpholog\n",
      "and:and\n",
      "inflexional:inflexion\n",
      "endings:end\n",
      "from:from\n",
      "words:word\n",
      "in:in\n",
      "English:english\n",
      ".:.\n"
     ]
    }
   ],
   "source": [
    "for w in words:\n",
    "    print (w+':'+ps.stem(w))"
   ]
  },
  {
   "cell_type": "code",
   "execution_count": 23,
   "id": "9ad80fdf-0537-49e4-a50f-a431e5ba78a3",
   "metadata": {},
   "outputs": [
    {
     "data": {
      "text/plain": [
       "'alumini'"
      ]
     },
     "execution_count": 23,
     "metadata": {},
     "output_type": "execute_result"
    }
   ],
   "source": [
    "text1=\"Alumini\"\n",
    "ps.stem(text1)"
   ]
  },
  {
   "cell_type": "code",
   "execution_count": 25,
   "id": "ca8415d8-7bb8-4bfc-a34b-fac8b7eb4753",
   "metadata": {
    "scrolled": true
   },
   "outputs": [
    {
     "data": {
      "text/plain": [
       "'aluminu'"
      ]
     },
     "execution_count": 25,
     "metadata": {},
     "output_type": "execute_result"
    }
   ],
   "source": [
    "text2=\"Aluminus\"\n",
    "ps.stem(text2)"
   ]
  },
  {
   "cell_type": "code",
   "execution_count": 30,
   "id": "385dfcdb-8741-4a88-b5c2-fea68a2616a9",
   "metadata": {
    "scrolled": true
   },
   "outputs": [
    {
     "data": {
      "text/plain": [
       "'galvan'"
      ]
     },
     "execution_count": 30,
     "metadata": {},
     "output_type": "execute_result"
    }
   ],
   "source": [
    "text3=\"GALVANIZED\"\n",
    "ps.stem(text3)"
   ]
  },
  {
   "cell_type": "code",
   "execution_count": 31,
   "id": "5caa1352-137b-4518-92e3-8deae343b48d",
   "metadata": {},
   "outputs": [
    {
     "data": {
      "text/plain": [
       "'alumin'"
      ]
     },
     "execution_count": 31,
     "metadata": {},
     "output_type": "execute_result"
    }
   ],
   "source": [
    "text4=\"Alumine\"\n",
    "ps.stem(text4)"
   ]
  },
  {
   "cell_type": "code",
   "execution_count": 32,
   "id": "eb9d7724-6b99-4f5a-8a94-0db84f3acf02",
   "metadata": {},
   "outputs": [
    {
     "data": {
      "text/plain": [
       "'univers'"
      ]
     },
     "execution_count": 32,
     "metadata": {},
     "output_type": "execute_result"
    }
   ],
   "source": [
    "text=\"Universe\"\n",
    "ps.stem(text)"
   ]
  },
  {
   "cell_type": "code",
   "execution_count": 33,
   "id": "c25b993c-3737-43e3-abf4-88ef2b989aad",
   "metadata": {},
   "outputs": [
    {
     "data": {
      "text/plain": [
       "'univers'"
      ]
     },
     "execution_count": 33,
     "metadata": {},
     "output_type": "execute_result"
    }
   ],
   "source": [
    "text=\"Universal\"\n",
    "ps.stem(text)"
   ]
  },
  {
   "cell_type": "code",
   "execution_count": 34,
   "id": "02098b51-0719-418b-8845-8be136853063",
   "metadata": {},
   "outputs": [
    {
     "data": {
      "text/plain": [
       "'univers'"
      ]
     },
     "execution_count": 34,
     "metadata": {},
     "output_type": "execute_result"
    }
   ],
   "source": [
    "text=\"University\"\n",
    "ps.stem(text)"
   ]
  },
  {
   "cell_type": "code",
   "execution_count": null,
   "id": "46bc0539-c1cf-4851-8490-3cac4aa881b1",
   "metadata": {},
   "outputs": [],
   "source": []
  },
  {
   "cell_type": "code",
   "execution_count": null,
   "id": "84c5e93c-a385-463b-9ee7-10b639c64ac2",
   "metadata": {},
   "outputs": [],
   "source": []
  }
 ],
 "metadata": {
  "kernelspec": {
   "display_name": "Python 3 (ipykernel)",
   "language": "python",
   "name": "python3"
  },
  "language_info": {
   "codemirror_mode": {
    "name": "ipython",
    "version": 3
   },
   "file_extension": ".py",
   "mimetype": "text/x-python",
   "name": "python",
   "nbconvert_exporter": "python",
   "pygments_lexer": "ipython3",
   "version": "3.12.4"
  }
 },
 "nbformat": 4,
 "nbformat_minor": 5
}
