{
 "cells": [
  {
   "cell_type": "code",
   "execution_count": 20,
   "id": "811cb2e8-18f3-45ac-931c-a0fbef9ce061",
   "metadata": {},
   "outputs": [],
   "source": [
    "import nltk\n",
    "from nltk import FreqDist\n",
    "from nltk import word_tokenize"
   ]
  },
  {
   "cell_type": "code",
   "execution_count": 21,
   "id": "074ae46c-ffdf-490c-a852-a22ff88d4039",
   "metadata": {},
   "outputs": [
    {
     "data": {
      "text/plain": [
       "FreqDist({'the': 6, 'frequency': 5, 'a': 5, '.': 4, ',': 4, 'of': 3, 'experiment': 3, 'under': 3, 'to': 3, 'each': 3, ...})"
      ]
     },
     "execution_count": 21,
     "metadata": {},
     "output_type": "execute_result"
    }
   ],
   "source": [
    "text=\"A collection of frequency distributions for a single experiment run under different conditions. Conditional frequency distributions are used to record the number of times each sample occurred, given the condition under which the experiment was run. For example, a conditional frequency distribution could be used to record the frequency of each word (type) in a document, given its length. Formally, a conditional frequency distribution can be defined as a function that maps from each condition to the FreqDist for the experiment under that condition.\"\n",
    "wordlist=word_tokenize(text)\n",
    "fd=FreqDist(wordlist)\n",
    "fd"
   ]
  },
  {
   "cell_type": "code",
   "execution_count": 22,
   "id": "426b8a2c-d8b7-491e-bc83-32797d095245",
   "metadata": {},
   "outputs": [
    {
     "name": "stdout",
     "output_type": "stream",
     "text": [
      "[('the', 6), ('frequency', 5), ('a', 5), ('.', 4), (',', 4)]\n"
     ]
    }
   ],
   "source": [
    "print(fd.most_common(5)) #top 3 common tokens"
   ]
  },
  {
   "cell_type": "code",
   "execution_count": 23,
   "id": "6c56df82-786c-4439-a543-fda228b453e8",
   "metadata": {},
   "outputs": [
    {
     "name": "stdout",
     "output_type": "stream",
     "text": [
      "['A', 'collection', 'single', 'different', 'conditions', 'Conditional', 'are', 'number', 'times', 'sample', 'occurred', 'which', 'was', 'For', 'example', 'could', 'word', '(', 'type', ')', 'in', 'document', 'its', 'length', 'Formally', 'can', 'defined', 'as', 'function', 'maps', 'from', 'FreqDist']\n"
     ]
    }
   ],
   "source": [
    "print(fd.hapaxes())  #unique tokens"
   ]
  },
  {
   "cell_type": "code",
   "execution_count": 24,
   "id": "95a1b88d-3bb8-446b-ab27-711bd8192e25",
   "metadata": {},
   "outputs": [
    {
     "name": "stdout",
     "output_type": "stream",
     "text": [
      "Total Tokens =98171\n",
      "Unique Tokens =6132\n",
      "Top 10 token =\n",
      ",\t6750\n",
      "the\t3120\n",
      "to\t2775\n",
      ".\t2741\n",
      "and\t2739\n",
      "of\t2564\n",
      "a\t1529\n",
      "in\t1346\n",
      "was\t1330\n",
      ";\t1290\n"
     ]
    }
   ],
   "source": [
    "from  nltk.corpus import gutenberg\n",
    "list_of_words=gutenberg.words('austen-persuasion.txt')\n",
    "fd=FreqDist(list_of_words)\n",
    "print(\"Total Tokens =\"+str(fd.N()))\n",
    "print(\"Unique Tokens =\"+str(fd.B()))\n",
    "print(\"Top 10 token =\")\n",
    "for token,freq in fd.most_common(10):\n",
    "    print(token+'\\t'+str(freq))"
   ]
  },
  {
   "cell_type": "code",
   "execution_count": 47,
   "id": "6cc54efd-490c-416c-ab50-398ec6d7c515",
   "metadata": {},
   "outputs": [
    {
     "name": "stdout",
     "output_type": "stream",
     "text": [
      "Total Tokens =69213\n",
      "Unique Tokens =6807\n",
      "Top 10 token =\n",
      ",\t3488\n",
      "the\t3291\n",
      ".\t2717\n",
      "a\t1713\n",
      "of\t1710\n",
      "and\t1568\n",
      "\"\t1336\n",
      "to\t1045\n",
      "in\t888\n",
      "I\t885\n"
     ]
    }
   ],
   "source": [
    "from  nltk.corpus import gutenberg\n",
    "list_of_words=gutenberg.words('chesterton-thursday.txt')\n",
    "fd=FreqDist(list_of_words)\n",
    "print(\"Total Tokens =\"+str(fd.N()))\n",
    "print(\"Unique Tokens =\"+str(fd.B()))\n",
    "print(\"Top 10 token =\")\n",
    "for token,freq in fd.most_common(10):\n",
    "    print(token+'\\t'+str(freq))"
   ]
  },
  {
   "cell_type": "code",
   "execution_count": 26,
   "id": "5860d7f4-766b-4017-b8f2-558ab09e8583",
   "metadata": {},
   "outputs": [
    {
     "name": "stdout",
     "output_type": "stream",
     "text": [
      "The Pacific typhoon season began on May 22, when a tropical storm named Ewiniar formed southeast of Palau, marking it as the fifth-latest start of a Pacific typhoon season since reliable records began.[7] Ewiniar tracked toward the Philippines, where it made nine landfalls in Homonhon Island; Giporlos, Eastern Samar; Basiao Island; Cagduyong Island; Batuan, Masbate; Masbate City; Torrijos, Marinduque; Lucena, Quezon and Patnanungan. It began to move over the warm tropical waters of Lamon Bay, where the JTWC and the JMA upgraded Ewiniar into a minimal typhoon. Ewiniar began transitioning to an extratropical cyclone while it is 719 km (447 mi) east-northeast of Kadena Air Base in Okinawa, Japan. On June 6, the remnants of Ewiniar would be absorbed by another extratropical cyclone, just off the coast of Alaska. On May 30, another tropical depression formed southeast of Haikou, China. The next day, at 03:00 UTC, JTWC designated the disturbance as Tropical Depression 02W. A few hours later, JMA assigned the name Maliksi as they upgraded 02W into a tropical storm. Shortly after being named, on May 31, Maliksi made landfall in Southern China. the JMA and JTWC discontinued warnings as Maliksi moved inland and dissipated on June 2. No storms formed in June for the first time since 2010.\n",
      "\n",
      "\n",
      "Satellite loop of Typhoon Gaemi skirting the coast before making landfall in the northeastern coast of Taiwan on July 24\n",
      "After many weeks of inactivity, on July 13, a tropical depression formed east of Vietnam. Shortly after, it tracked into Vietnam, dissipating soon after. On July 19, two tropical disturbances recognized by the JTWC: one southeast of Manila and another east of Palau. Soon after, both disturbances developed into a depression, being named by PAGASA. The first one, west of Batangas, was named Butchoy while the second, east of Virac, was called Carina. Later that day, the JTWC followed suit, designating them both as depressions. The next day, the easternmost disturbance was named Gaemi by the JMA. On July 21, Butchoy also intensified into a tropical storm, assigning the name Prapiroon from the JMA. Prapiroon moved through the South China Sea as a mild tropical storm before landfall over Wanning, Hainan. Prapiroon moved through Gulf of Tonkin, where it further intensified into a severe tropical storm. Early on July 23, Prapiroon made its second and final landfall in Quáº£ng Ninh, Vietnam. Rapid weakening ensued as Prapiroon moved inland and dissipated on the next day.\n",
      "\n",
      "Being in a favorable environment in the Philippine Sea, Gaemi continues to strengthen into a severe tropical storm as it moves northeastward slowly. Early the next day, JMA upgraded Gaemi into a typhoon, the second to occur this season. JTWC also followed suit and upgraded Gaemi into a Category-1 typhoon. Owing to its warm sea surface temperature and low vertical wind shear, on July 24, Gaemi rapidly intensified into a Category-4 typhoon, with 10-minute sustained winds of 165 km/h (105 mph), equivalent to a very strong typhoon category by the JMA. Gaemi stalled and executed a counterclockwise loop near the coast, slightly weakening into a Category-3 typhoon. Overnight, Gaemi made landfall over Hualien, Taiwan at that intensity. The country's mountain ranges tore apart the storm's structure, causing Gaemi to weaken further into a Category-2 typhoon. The storm accelerated across the island and emerged into the Taiwan Strait, six hours after landfall. The next day, Gaemi made its final landfall at Xiuyu, Putian at Fujian Province as a weakening tropical storm. Moving inland, the storm rapidly weakened until it dissipated on July 27.\n",
      "\n",
      "Even though Gaemi never made landfall in the Philippines, the storm's moisture would enhance the southwest monsoon. Heavy rainfalls were felt over Luzon and some parts of Visayas, leaving each region flooded. Overall, Gaemi caused 126 fatalities and $266 million worth of damages throughout its track.On August 3, a low-pressure area developed east of Kadena Air Base. At 00:00 UTC, JMA recognize the disturbance as a depression. However, it downgraded to a remnant low on August 7. The convection later meandered south of Ryukyu Islands for a few days before JMA was reclassified again as a depression on August 11. JMA issued a gale warning the next day, citing that it would intensify in the following days. JTWC later followed suit and upgraded into a tropical depression. On August 13, the depression became a tropical storm, receiving the name Ampil from the JMA. Ampil gradually intensified in the Pacific Ocean, becoming a severe tropical storm. JMA upgraded Ampil into a typhoon two days later, with JTWC further recognized as a Category-2 typhoon. The next day, it strengthened into a Category-4 typhoon. The typhoon passed just south of Greater Tokyo Area before weakening and transitioning to an extratropical cyclone.\n",
      "\n",
      "On August 5, a low-pressure area was formed in Bonin Islands. The disturbance was in an environment with low to moderate wind shear and warm SSTs. JTWC later classified the disturbance into a depression the next day, giving the designation 06W. Early on August 8, JMA upgraded the depression into a storm, naming it Maria. The storm further strengthened into a severe tropical storm on the same day. At the same time, JTWC reported that Maria had rapidly intensified into a typhoon due to strong equatorward and poleward outflow. However, on August 9, Maria weakened into a tropical storm as it moved northeastwards. On August 10, another area of low pressure formed just southeast of Maria. The JTWC would classify the disturbance as a subtropical depression in their next bulletin. Despite being in a marginal environment and high wind shear, JMA upgraded into a tropical storm, assigning the name Son-Tinh. The next day, JTWC announced that Son-Tinh became tropical, designating it as 07W. Son-Tinh weakened back into a depression before it dissipated on August 14.\n",
      "\n",
      "On the morning of August 12, Maria made landfall in Iwate Prefecture as a tropical storm, bringing strong winds and dumping heavy rains in northern Japan. Maria then weakened into a depression after moving inland. The storm entered through the Sea of Japan, weakening further the next day. The JTWC issued its final warning after Maria was last noted west-northwest of Misawa, Japan. JMA continued to track as a depression before they issued their final warning at 04:15 UTC.\n",
      "\n",
      "Activity became more active when an area of convection was formed on August 12 near the southwest of a nearby storm Son-Tinh. JMA would immediately recognize the disturbance as a depression. The next day, JTWC went to give its identifier of the depression, which was Tropical Depression 09W. Just like Ampil, on August 13, 09W intensified into a tropical storm, attaining the name Wukong from the JMA. Wukong was short-lived due to its poorly organized cloud tops. JTWC made its final warning on Wukong as it moved through cooler waters and dissipated on August 15.\n",
      "\n",
      "On August 17, JMA recognized a tropical depression that formed east of Taiwan. The next day, PAGASA declared the system a tropical depression, assigning the name Dindo. The depression was named Jongdari three hours later upon formation. JTWC later followed suit and upgraded into a tropical storm. However, it did not last long and weakened into a depression as it nears the Korean Peninsula. On August 21, Both JMA and JTWC reported that Jongdari had dissipated as its low-level circulation center had faded when it moved over land. After Jongdari, a low-pressure area formed in the Northern Mariana Islands on the same day. The system intensified into a tropical storm on the next day and got the name Shanshan from the JMA. Shanshan later strengthened into a typhoon\n"
     ]
    }
   ],
   "source": [
    "file=open('C:/Users/student/Desktop/wow.txt','r')\n",
    "content=file.read()\n",
    "print(content)\n",
    "file.close()"
   ]
  },
  {
   "cell_type": "code",
   "execution_count": 39,
   "id": "b3163e01-0133-4862-bf36-cb6dac138952",
   "metadata": {},
   "outputs": [
    {
     "name": "stdout",
     "output_type": "stream",
     "text": [
      "Total Tokens =986\n",
      "Unique Tokens =372\n",
      "Top 10 token =\n",
      ",\t92\n",
      ".\t70\n",
      "tropical\t26\n",
      "storm\t24\n",
      "depression\t21\n",
      "jma\t20\n",
      "jtwc\t17\n",
      "typhoon\t16\n",
      "day\t16\n",
      "august\t15\n"
     ]
    }
   ],
   "source": [
    "from nltk.corpus import stopwords\n",
    "stop_words=set(stopwords.words('english'))\n",
    "words=word_tokenize(content.lower())\n",
    "filtered_words=[]\n",
    "for w in words:\n",
    "    if w not in stop_words:\n",
    "        filtered_words.append(w)\n",
    "\n",
    "fd=FreqDist(filtered_words)\n",
    "print(\"Total Tokens =\"+str(fd.N()))\n",
    "print(\"Unique Tokens =\"+str(fd.B()))\n",
    "print(\"Top 10 token =\")\n",
    "for token,freq in fd.most_common(10):\n",
    "    print(token+'\\t'+str(freq))"
   ]
  },
  {
   "cell_type": "code",
   "execution_count": null,
   "id": "d60a3eba-93a3-481b-9111-dd0b987acb3a",
   "metadata": {},
   "outputs": [],
   "source": []
  }
 ],
 "metadata": {
  "kernelspec": {
   "display_name": "Python 3 (ipykernel)",
   "language": "python",
   "name": "python3"
  },
  "language_info": {
   "codemirror_mode": {
    "name": "ipython",
    "version": 3
   },
   "file_extension": ".py",
   "mimetype": "text/x-python",
   "name": "python",
   "nbconvert_exporter": "python",
   "pygments_lexer": "ipython3",
   "version": "3.12.4"
  }
 },
 "nbformat": 4,
 "nbformat_minor": 5
}
