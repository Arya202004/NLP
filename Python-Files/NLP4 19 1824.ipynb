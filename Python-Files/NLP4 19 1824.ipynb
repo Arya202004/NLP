{
 "cells": [
  {
   "cell_type": "code",
   "execution_count": 1,
   "id": "2c76daa6-1db5-46f0-99e4-1de8e6d62203",
   "metadata": {},
   "outputs": [],
   "source": [
    "import nltk\n",
    "from  nltk.tokenize import word_tokenize"
   ]
  },
  {
   "cell_type": "code",
   "execution_count": 15,
   "id": "60fb9c91-366b-4435-a489-27658c4bea3b",
   "metadata": {},
   "outputs": [],
   "source": [
    "from nltk.stem import WordNetLemmatizer"
   ]
  },
  {
   "cell_type": "code",
   "execution_count": 16,
   "id": "b274250b-9f0e-4d17-b00b-7adc837812b1",
   "metadata": {},
   "outputs": [],
   "source": [
    "text=\"I was running to become a better athelete and then I went back home\"\n",
    "lm=WordNetLemmatizer()\n",
    "words=word_tokenize(text)"
   ]
  },
  {
   "cell_type": "code",
   "execution_count": 17,
   "id": "e132de2e-fce4-48fb-b7b2-352d1922669d",
   "metadata": {},
   "outputs": [
    {
     "name": "stdout",
     "output_type": "stream",
     "text": [
      "I:I\n",
      "was:wa\n",
      "running:running\n",
      "to:to\n",
      "become:become\n",
      "a:a\n",
      "better:better\n",
      "athelete:athelete\n",
      "and:and\n",
      "then:then\n",
      "I:I\n",
      "went:went\n",
      "back:back\n",
      "home:home\n"
     ]
    }
   ],
   "source": [
    "for w in words:\n",
    "    print(w+\":\"+lm.lemmatize(w))"
   ]
  },
  {
   "cell_type": "code",
   "execution_count": null,
   "id": "07ea1824-ae3d-4a28-b91e-3e821caef585",
   "metadata": {},
   "outputs": [],
   "source": []
  }
 ],
 "metadata": {
  "kernelspec": {
   "display_name": "Python 3 (ipykernel)",
   "language": "python",
   "name": "python3"
  },
  "language_info": {
   "codemirror_mode": {
    "name": "ipython",
    "version": 3
   },
   "file_extension": ".py",
   "mimetype": "text/x-python",
   "name": "python",
   "nbconvert_exporter": "python",
   "pygments_lexer": "ipython3",
   "version": "3.12.4"
  }
 },
 "nbformat": 4,
 "nbformat_minor": 5
}
