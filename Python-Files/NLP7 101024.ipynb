{
 "cells": [
  {
   "cell_type": "code",
   "execution_count": 83,
   "id": "752b9dab-89cb-4384-9761-3c367bc6ab07",
   "metadata": {},
   "outputs": [
    {
     "name": "stdout",
     "output_type": "stream",
     "text": [
      "Yes! We have a match!\n"
     ]
    }
   ],
   "source": [
    "#re stands for regular expression\n",
    "from nltk import re\n",
    "txt=\"The rain in Nagpur\"\n",
    "x=re.findall(\"Nagpur\",txt)\n",
    "if x:\n",
    "    print(\"Yes! We have a match!\")\n",
    "else:\n",
    "    print(\"No match\")"
   ]
  },
  {
   "cell_type": "code",
   "execution_count": 84,
   "id": "9c4f7e15-0452-45d4-a852-ed34c922d75b",
   "metadata": {},
   "outputs": [
    {
     "name": "stdout",
     "output_type": "stream",
     "text": [
      "No match\n"
     ]
    }
   ],
   "source": [
    "txt=\"The rain in Nagpur \"\n",
    "x=re.findall(\"pune\",txt)\n",
    "if x:\n",
    "    print(\"Yes! We have a match!\")\n",
    "else:\n",
    "    print(\"No match\")"
   ]
  },
  {
   "cell_type": "code",
   "execution_count": 85,
   "id": "65cb1ea8-34a5-4b87-b38b-4760f2093ac4",
   "metadata": {},
   "outputs": [
    {
     "name": "stdout",
     "output_type": "stream",
     "text": [
      "No match\n"
     ]
    }
   ],
   "source": [
    "txt=\"The rain in Nagpur\"\n",
    "x=re.search(\"pune\",txt)\n",
    "if x:\n",
    "    print(\"Yes!We have a match!\")\n",
    "else:\n",
    "    print(\"No match\")"
   ]
  },
  {
   "cell_type": "code",
   "execution_count": 86,
   "id": "a2a07ca9-fa79-4b0d-b01c-49232bab0e2f",
   "metadata": {},
   "outputs": [
    {
     "name": "stdout",
     "output_type": "stream",
     "text": [
      "sanjay@g\n"
     ]
    }
   ],
   "source": [
    "txt=\"My email is kamal.sanjay@gmail.com\"\n",
    "match=re.search(r\"\\w+@\\w\",txt)\n",
    "if match :\n",
    "    print(match.group())"
   ]
  },
  {
   "cell_type": "code",
   "execution_count": 87,
   "id": "f56d4648-e3e8-4e2d-8d28-a532297ecfcc",
   "metadata": {},
   "outputs": [
    {
     "name": "stdout",
     "output_type": "stream",
     "text": [
      "My email is kamal.sanjay@gmail.com\n"
     ]
    }
   ],
   "source": [
    "txt=\"My email is kamal.sanjay@gmail.com\"\n",
    "match=re.search(r\"[\\w # $ _ - .]+@[\\w # $ _ - .]+\",txt)\n",
    "if match :\n",
    "    print(match.group())"
   ]
  },
  {
   "cell_type": "code",
   "execution_count": 88,
   "id": "bfb9ed0d-3e64-488d-a28d-798421da223d",
   "metadata": {},
   "outputs": [
    {
     "name": "stdout",
     "output_type": "stream",
     "text": [
      "My email is nityay#.@GMAIL.com\n"
     ]
    }
   ],
   "source": [
    "txt=\"My email is nityay#.@GMAIL.com\"\n",
    "match=re.search(r\"[\\w # $ _ - .]+@[\\w # $ _ - .]+\",txt)\n",
    "if match :\n",
    "    print(match.group())"
   ]
  },
  {
   "cell_type": "code",
   "execution_count": 115,
   "id": "82c3a0af-7119-4c1c-ab78-2578adba522e",
   "metadata": {},
   "outputs": [
    {
     "name": "stdout",
     "output_type": "stream",
     "text": [
      "The rain in Nagpur.\n"
     ]
    }
   ],
   "source": [
    "txt=\"The rain in Nagpur.\"\n",
    "match=re.search(r\"^The.*Nagpur.$\",txt)\n",
    "if match:\n",
    "    print(match.group())"
   ]
  },
  {
   "cell_type": "code",
   "execution_count": 123,
   "id": "e857c988-ee08-43f7-a7d5-2b5e702db882",
   "metadata": {},
   "outputs": [
    {
     "name": "stdout",
     "output_type": "stream",
     "text": [
      "The rain in Nagpur\n"
     ]
    }
   ],
   "source": [
    "txt=\"The rain in Nagpur.Under the shimmering moonlight, the old oak tree cast long shadows across the quiet meadow.The curious cat perched on the windowsill, watching the world go by with wide, inquisitive eyes.\"\n",
    "match=re.search(r\"The.*Nagpur\",txt)\n",
    "if match:\n",
    "    print(match.group())"
   ]
  },
  {
   "cell_type": "code",
   "execution_count": null,
   "id": "5d838a2c-9340-47d7-a2c8-52a19eae8ffe",
   "metadata": {},
   "outputs": [],
   "source": []
  }
 ],
 "metadata": {
  "kernelspec": {
   "display_name": "Python 3 (ipykernel)",
   "language": "python",
   "name": "python3"
  },
  "language_info": {
   "codemirror_mode": {
    "name": "ipython",
    "version": 3
   },
   "file_extension": ".py",
   "mimetype": "text/x-python",
   "name": "python",
   "nbconvert_exporter": "python",
   "pygments_lexer": "ipython3",
   "version": "3.12.4"
  }
 },
 "nbformat": 4,
 "nbformat_minor": 5
}
